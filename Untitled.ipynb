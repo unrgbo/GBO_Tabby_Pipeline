{
 "cells": [
  {
   "cell_type": "code",
   "execution_count": 1,
   "metadata": {
    "scrolled": false
   },
   "outputs": [
    {
     "name": "stdout",
     "output_type": "stream",
     "text": [
      "\n",
      "The current datetime is:\n",
      "\n",
      "2019-05-02 12:20:35.208288\n",
      "\n",
      "Looking for new data from the GBO\n",
      "\n",
      "Looking for new Data\n",
      "\n",
      "No new data found\n",
      "\n"
     ]
    },
    {
     "name": "stderr",
     "output_type": "stream",
     "text": [
      "  0%|          | 0/1 [00:00<?, ?it/s]\n",
      "  0%|          | 0/5 [00:00<?, ?it/s]\u001b[A"
     ]
    },
    {
     "name": "stdout",
     "output_type": "stream",
     "text": [
      "\n",
      "Beginning data processing for new dates\n",
      "\n",
      "\n",
      "Beginning photometry for 20190427\n"
     ]
    },
    {
     "name": "stderr",
     "output_type": "stream",
     "text": [
      "\n",
      "\n",
      "0it [00:00, ?it/s]\u001b[A\u001b[A\n",
      "\n",
      "\u001b[A\u001b[A\n",
      " 20%|██        | 1/5 [00:00<00:01,  2.76it/s]\u001b[A"
     ]
    },
    {
     "name": "stdout",
     "output_type": "stream",
     "text": [
      "Using Bias, Dark, and Flat from: 20181119 20181119 20181126\n",
      "20181119 20181119 20181126\n",
      "Master bias already exists!\n",
      "Master dark already exists!\n",
      "Master flat already exists!\n"
     ]
    },
    {
     "name": "stderr",
     "output_type": "stream",
     "text": [
      "\n",
      "\n",
      "0it [00:00, ?it/s]\u001b[A\u001b[A\n",
      "\n",
      "\u001b[A\u001b[A\n",
      " 40%|████      | 2/5 [00:00<00:01,  2.99it/s]\u001b[A"
     ]
    },
    {
     "name": "stdout",
     "output_type": "stream",
     "text": [
      "Using Bias, Dark, and Flat from: 20181119 20181119 20181126\n",
      "20181119 20181119 20181126\n",
      "Master bias already exists!\n",
      "Master dark already exists!\n",
      "Master flat already exists!\n"
     ]
    },
    {
     "name": "stderr",
     "output_type": "stream",
     "text": [
      "\n",
      "\n",
      "0it [00:00, ?it/s]\u001b[A\u001b[A\n",
      "\n",
      "\u001b[A\u001b[A\n",
      " 60%|██████    | 3/5 [00:00<00:00,  3.17it/s]\u001b[A"
     ]
    },
    {
     "name": "stdout",
     "output_type": "stream",
     "text": [
      "Using Bias, Dark, and Flat from: 20181119 20181119 20181126\n",
      "20181119 20181119 20181126\n",
      "Master bias already exists!\n",
      "Master dark already exists!\n",
      "Master flat already exists!\n"
     ]
    },
    {
     "name": "stderr",
     "output_type": "stream",
     "text": [
      "\n",
      "\n",
      "0it [00:00, ?it/s]\u001b[A\u001b[A\n",
      "\n",
      "\u001b[A\u001b[A\n",
      " 80%|████████  | 4/5 [00:01<00:00,  3.32it/s]\u001b[A"
     ]
    },
    {
     "name": "stdout",
     "output_type": "stream",
     "text": [
      "Using Bias, Dark, and Flat from: 20181119 20181119 20181126\n",
      "20181119 20181119 20181126\n",
      "Master bias already exists!\n",
      "Master dark already exists!\n",
      "Master flat already exists!\n"
     ]
    },
    {
     "name": "stderr",
     "output_type": "stream",
     "text": [
      "\n",
      "\n",
      "  0%|          | 0/15 [00:00<?, ?it/s]\u001b[A\u001b[A"
     ]
    },
    {
     "name": "stdout",
     "output_type": "stream",
     "text": [
      "Using Bias, Dark, and Flat from: 20181119 20181119 20181126\n",
      "20181119 20181119 20181126\n",
      "Master bias already exists!\n",
      "Master dark already exists!\n",
      "Master flat already exists!\n",
      "\n",
      "Centering algorithm (centroid) (CR or value): \tNew centering algorithm: centroid\n",
      "Centering box width in scale units (5.) (CR or value): \tNew centering box width: 5. scale units  5. pixels\n",
      "Sky fitting algorithm (centroid) (CR or value): \tSky fitting algorithm: centroid\n",
      "Inner radius of sky annulus in scale units (20.) (CR or value): \tNew inner radius of sky annulus: 20. scale units 20. pixels\n",
      "Width of the sky annulus in scale units (5.) (CR or value): \tNew width of the sky annulus: 5. scale units 5. pixels\n",
      "File/list of aperture radii in scale units (10) (CR or value): \tAperture radius 1: 10. scale units 10. pixels\n",
      "Standard deviation of background in counts (INDEF) (CR or value): \tNew standard deviation of background: INDEF counts\n",
      "Minimum good data value (INDEF) (CR or value): \tNew minimum good data value: INDEF counts\n",
      "Maximum good data value (INDEF) (CR or value): \tNew maximum good data value: INDEF counts\n",
      "\n"
     ]
    },
    {
     "name": "stderr",
     "output_type": "stream",
     "text": [
      "\n",
      "\n",
      "  7%|▋         | 1/15 [00:00<00:11,  1.20it/s]\u001b[A\u001b[A"
     ]
    },
    {
     "name": "stdout",
     "output_type": "stream",
     "text": [
      "\n",
      "Centering algorithm (centroid) (CR or value): \tNew centering algorithm: centroid\n",
      "Centering box width in scale units (5.) (CR or value): \tNew centering box width: 5. scale units  5. pixels\n",
      "Sky fitting algorithm (centroid) (CR or value): \tSky fitting algorithm: centroid\n",
      "Inner radius of sky annulus in scale units (20.) (CR or value): \tNew inner radius of sky annulus: 20. scale units 20. pixels\n",
      "Width of the sky annulus in scale units (5.) (CR or value): \tNew width of the sky annulus: 5. scale units 5. pixels\n",
      "File/list of aperture radii in scale units (10) (CR or value): \tAperture radius 1: 10. scale units 10. pixels\n",
      "Standard deviation of background in counts (INDEF) (CR or value): \tNew standard deviation of background: INDEF counts\n",
      "Minimum good data value (INDEF) (CR or value): \tNew minimum good data value: INDEF counts\n",
      "Maximum good data value (INDEF) (CR or value): \tNew maximum good data value: INDEF counts\n",
      "\n"
     ]
    },
    {
     "name": "stderr",
     "output_type": "stream",
     "text": [
      "\n",
      "\n",
      " 13%|█▎        | 2/15 [00:01<00:10,  1.23it/s]\u001b[A\u001b[A"
     ]
    },
    {
     "name": "stdout",
     "output_type": "stream",
     "text": [
      "\n",
      "Centering algorithm (centroid) (CR or value): \tNew centering algorithm: centroid\n",
      "Centering box width in scale units (5.) (CR or value): \tNew centering box width: 5. scale units  5. pixels\n",
      "Sky fitting algorithm (centroid) (CR or value): \tSky fitting algorithm: centroid\n",
      "Inner radius of sky annulus in scale units (20.) (CR or value): \tNew inner radius of sky annulus: 20. scale units 20. pixels\n",
      "Width of the sky annulus in scale units (5.) (CR or value): \tNew width of the sky annulus: 5. scale units 5. pixels\n",
      "File/list of aperture radii in scale units (10) (CR or value): \tAperture radius 1: 10. scale units 10. pixels\n",
      "Standard deviation of background in counts (INDEF) (CR or value): \tNew standard deviation of background: INDEF counts\n",
      "Minimum good data value (INDEF) (CR or value): \tNew minimum good data value: INDEF counts\n",
      "Maximum good data value (INDEF) (CR or value): \tNew maximum good data value: INDEF counts\n",
      "\n"
     ]
    },
    {
     "name": "stderr",
     "output_type": "stream",
     "text": [
      "\n",
      "\n",
      " 20%|██        | 3/15 [00:02<00:09,  1.28it/s]\u001b[A\u001b[A"
     ]
    },
    {
     "name": "stdout",
     "output_type": "stream",
     "text": [
      "\n",
      "Centering algorithm (centroid) (CR or value): \tNew centering algorithm: centroid\n",
      "Centering box width in scale units (5.) (CR or value): \tNew centering box width: 5. scale units  5. pixels\n",
      "Sky fitting algorithm (centroid) (CR or value): \tSky fitting algorithm: centroid\n",
      "Inner radius of sky annulus in scale units (20.) (CR or value): \tNew inner radius of sky annulus: 20. scale units 20. pixels\n",
      "Width of the sky annulus in scale units (5.) (CR or value): \tNew width of the sky annulus: 5. scale units 5. pixels\n",
      "File/list of aperture radii in scale units (10) (CR or value): \tAperture radius 1: 10. scale units 10. pixels\n",
      "Standard deviation of background in counts (INDEF) (CR or value): \tNew standard deviation of background: INDEF counts\n",
      "Minimum good data value (INDEF) (CR or value): \tNew minimum good data value: INDEF counts\n",
      "Maximum good data value (INDEF) (CR or value): \tNew maximum good data value: INDEF counts\n",
      "\n"
     ]
    },
    {
     "name": "stderr",
     "output_type": "stream",
     "text": [
      "\n",
      "\n",
      " 27%|██▋       | 4/15 [00:02<00:08,  1.32it/s]\u001b[A\u001b[A"
     ]
    },
    {
     "name": "stdout",
     "output_type": "stream",
     "text": [
      "\n",
      "Centering algorithm (centroid) (CR or value): \tNew centering algorithm: centroid\n",
      "Centering box width in scale units (5.) (CR or value): \tNew centering box width: 5. scale units  5. pixels\n",
      "Sky fitting algorithm (centroid) (CR or value): \tSky fitting algorithm: centroid\n",
      "Inner radius of sky annulus in scale units (20.) (CR or value): \tNew inner radius of sky annulus: 20. scale units 20. pixels\n",
      "Width of the sky annulus in scale units (5.) (CR or value): \tNew width of the sky annulus: 5. scale units 5. pixels\n",
      "File/list of aperture radii in scale units (10) (CR or value): \tAperture radius 1: 10. scale units 10. pixels\n",
      "Standard deviation of background in counts (INDEF) (CR or value): \tNew standard deviation of background: INDEF counts\n",
      "Minimum good data value (INDEF) (CR or value): \tNew minimum good data value: INDEF counts\n",
      "Maximum good data value (INDEF) (CR or value): \tNew maximum good data value: INDEF counts\n",
      "\n"
     ]
    },
    {
     "name": "stderr",
     "output_type": "stream",
     "text": [
      "\n",
      "\n",
      " 33%|███▎      | 5/15 [00:03<00:07,  1.36it/s]\u001b[A\u001b[A"
     ]
    },
    {
     "name": "stdout",
     "output_type": "stream",
     "text": [
      "\n",
      "Centering algorithm (centroid) (CR or value): \tNew centering algorithm: centroid\n",
      "Centering box width in scale units (5.) (CR or value): \tNew centering box width: 5. scale units  5. pixels\n",
      "Sky fitting algorithm (centroid) (CR or value): \tSky fitting algorithm: centroid\n",
      "Inner radius of sky annulus in scale units (20.) (CR or value): \tNew inner radius of sky annulus: 20. scale units 20. pixels\n",
      "Width of the sky annulus in scale units (5.) (CR or value): \tNew width of the sky annulus: 5. scale units 5. pixels\n",
      "File/list of aperture radii in scale units (10) (CR or value): \tAperture radius 1: 10. scale units 10. pixels\n",
      "Standard deviation of background in counts (INDEF) (CR or value): \tNew standard deviation of background: INDEF counts\n",
      "Minimum good data value (INDEF) (CR or value): \tNew minimum good data value: INDEF counts\n",
      "Maximum good data value (INDEF) (CR or value): \tNew maximum good data value: INDEF counts\n",
      "\n"
     ]
    },
    {
     "name": "stderr",
     "output_type": "stream",
     "text": [
      "\n",
      "\n",
      " 40%|████      | 6/15 [00:04<00:06,  1.39it/s]\u001b[A\u001b[A"
     ]
    },
    {
     "name": "stdout",
     "output_type": "stream",
     "text": [
      "\n",
      "Centering algorithm (centroid) (CR or value): \tNew centering algorithm: centroid\n",
      "Centering box width in scale units (5.) (CR or value): \tNew centering box width: 5. scale units  5. pixels\n",
      "Sky fitting algorithm (centroid) (CR or value): \tSky fitting algorithm: centroid\n",
      "Inner radius of sky annulus in scale units (20.) (CR or value): \tNew inner radius of sky annulus: 20. scale units 20. pixels\n",
      "Width of the sky annulus in scale units (5.) (CR or value): \tNew width of the sky annulus: 5. scale units 5. pixels\n",
      "File/list of aperture radii in scale units (10) (CR or value): \tAperture radius 1: 10. scale units 10. pixels\n",
      "Standard deviation of background in counts (INDEF) (CR or value): \tNew standard deviation of background: INDEF counts\n",
      "Minimum good data value (INDEF) (CR or value): \tNew minimum good data value: INDEF counts\n",
      "Maximum good data value (INDEF) (CR or value): \tNew maximum good data value: INDEF counts\n",
      "\n"
     ]
    },
    {
     "name": "stderr",
     "output_type": "stream",
     "text": [
      "\n",
      "\n",
      " 47%|████▋     | 7/15 [00:05<00:05,  1.37it/s]\u001b[A\u001b[A"
     ]
    },
    {
     "name": "stdout",
     "output_type": "stream",
     "text": [
      "\n",
      "Centering algorithm (centroid) (CR or value): \tNew centering algorithm: centroid\n",
      "Centering box width in scale units (5.) (CR or value): \tNew centering box width: 5. scale units  5. pixels\n",
      "Sky fitting algorithm (centroid) (CR or value): \tSky fitting algorithm: centroid\n",
      "Inner radius of sky annulus in scale units (20.) (CR or value): \tNew inner radius of sky annulus: 20. scale units 20. pixels\n",
      "Width of the sky annulus in scale units (5.) (CR or value): \tNew width of the sky annulus: 5. scale units 5. pixels\n",
      "File/list of aperture radii in scale units (10) (CR or value): \tAperture radius 1: 10. scale units 10. pixels\n",
      "Standard deviation of background in counts (INDEF) (CR or value): \tNew standard deviation of background: INDEF counts\n",
      "Minimum good data value (INDEF) (CR or value): \tNew minimum good data value: INDEF counts\n",
      "Maximum good data value (INDEF) (CR or value): \tNew maximum good data value: INDEF counts\n",
      "\n"
     ]
    },
    {
     "name": "stderr",
     "output_type": "stream",
     "text": [
      "\n",
      "\n",
      " 53%|█████▎    | 8/15 [00:05<00:04,  1.40it/s]\u001b[A\u001b[A"
     ]
    },
    {
     "name": "stdout",
     "output_type": "stream",
     "text": [
      "\n",
      "Centering algorithm (centroid) (CR or value): \tNew centering algorithm: centroid\n",
      "Centering box width in scale units (5.) (CR or value): \tNew centering box width: 5. scale units  5. pixels\n",
      "Sky fitting algorithm (centroid) (CR or value): \tSky fitting algorithm: centroid\n",
      "Inner radius of sky annulus in scale units (20.) (CR or value): \tNew inner radius of sky annulus: 20. scale units 20. pixels\n",
      "Width of the sky annulus in scale units (5.) (CR or value): \tNew width of the sky annulus: 5. scale units 5. pixels\n",
      "File/list of aperture radii in scale units (10) (CR or value): \tAperture radius 1: 10. scale units 10. pixels\n",
      "Standard deviation of background in counts (INDEF) (CR or value): \tNew standard deviation of background: INDEF counts\n",
      "Minimum good data value (INDEF) (CR or value): \tNew minimum good data value: INDEF counts\n",
      "Maximum good data value (INDEF) (CR or value): \tNew maximum good data value: INDEF counts\n",
      "\n"
     ]
    },
    {
     "name": "stderr",
     "output_type": "stream",
     "text": [
      "\n",
      "\n",
      " 60%|██████    | 9/15 [00:06<00:04,  1.36it/s]\u001b[A\u001b[A"
     ]
    },
    {
     "name": "stdout",
     "output_type": "stream",
     "text": [
      "\n",
      "Centering algorithm (centroid) (CR or value): \tNew centering algorithm: centroid\n",
      "Centering box width in scale units (5.) (CR or value): \tNew centering box width: 5. scale units  5. pixels\n",
      "Sky fitting algorithm (centroid) (CR or value): \tSky fitting algorithm: centroid\n",
      "Inner radius of sky annulus in scale units (20.) (CR or value): \tNew inner radius of sky annulus: 20. scale units 20. pixels\n",
      "Width of the sky annulus in scale units (5.) (CR or value): \tNew width of the sky annulus: 5. scale units 5. pixels\n",
      "File/list of aperture radii in scale units (10) (CR or value): \tAperture radius 1: 10. scale units 10. pixels\n",
      "Standard deviation of background in counts (INDEF) (CR or value): \tNew standard deviation of background: INDEF counts\n",
      "Minimum good data value (INDEF) (CR or value): \tNew minimum good data value: INDEF counts\n",
      "Maximum good data value (INDEF) (CR or value): \tNew maximum good data value: INDEF counts\n",
      "\n"
     ]
    },
    {
     "name": "stderr",
     "output_type": "stream",
     "text": [
      "\n",
      "\n",
      " 67%|██████▋   | 10/15 [00:07<00:03,  1.36it/s]\u001b[A\u001b[A"
     ]
    },
    {
     "name": "stdout",
     "output_type": "stream",
     "text": [
      "\n",
      "Centering algorithm (centroid) (CR or value): \tNew centering algorithm: centroid\n",
      "Centering box width in scale units (5.) (CR or value): \tNew centering box width: 5. scale units  5. pixels\n",
      "Sky fitting algorithm (centroid) (CR or value): \tSky fitting algorithm: centroid\n",
      "Inner radius of sky annulus in scale units (20.) (CR or value): \tNew inner radius of sky annulus: 20. scale units 20. pixels\n",
      "Width of the sky annulus in scale units (5.) (CR or value): \tNew width of the sky annulus: 5. scale units 5. pixels\n",
      "File/list of aperture radii in scale units (10) (CR or value): \tAperture radius 1: 10. scale units 10. pixels\n",
      "Standard deviation of background in counts (INDEF) (CR or value): \tNew standard deviation of background: INDEF counts\n",
      "Minimum good data value (INDEF) (CR or value): \tNew minimum good data value: INDEF counts\n",
      "Maximum good data value (INDEF) (CR or value): \tNew maximum good data value: INDEF counts\n",
      "\n"
     ]
    },
    {
     "name": "stderr",
     "output_type": "stream",
     "text": [
      "\n",
      "\n",
      " 73%|███████▎  | 11/15 [00:08<00:03,  1.31it/s]\u001b[A\u001b[A"
     ]
    },
    {
     "name": "stdout",
     "output_type": "stream",
     "text": [
      "\n",
      "Centering algorithm (centroid) (CR or value): \tNew centering algorithm: centroid\n",
      "Centering box width in scale units (5.) (CR or value): \tNew centering box width: 5. scale units  5. pixels\n",
      "Sky fitting algorithm (centroid) (CR or value): \tSky fitting algorithm: centroid\n",
      "Inner radius of sky annulus in scale units (20.) (CR or value): \tNew inner radius of sky annulus: 20. scale units 20. pixels\n",
      "Width of the sky annulus in scale units (5.) (CR or value): \tNew width of the sky annulus: 5. scale units 5. pixels\n",
      "File/list of aperture radii in scale units (10) (CR or value): \tAperture radius 1: 10. scale units 10. pixels\n",
      "Standard deviation of background in counts (INDEF) (CR or value): \tNew standard deviation of background: INDEF counts\n",
      "Minimum good data value (INDEF) (CR or value): \tNew minimum good data value: INDEF counts\n",
      "Maximum good data value (INDEF) (CR or value): \tNew maximum good data value: INDEF counts\n",
      "\n"
     ]
    },
    {
     "name": "stderr",
     "output_type": "stream",
     "text": [
      "\n",
      "\n",
      " 80%|████████  | 12/15 [00:08<00:02,  1.32it/s]\u001b[A\u001b[A"
     ]
    },
    {
     "name": "stdout",
     "output_type": "stream",
     "text": [
      "\n",
      "Centering algorithm (centroid) (CR or value): \tNew centering algorithm: centroid\n",
      "Centering box width in scale units (5.) (CR or value): \tNew centering box width: 5. scale units  5. pixels\n",
      "Sky fitting algorithm (centroid) (CR or value): \tSky fitting algorithm: centroid\n",
      "Inner radius of sky annulus in scale units (20.) (CR or value): \tNew inner radius of sky annulus: 20. scale units 20. pixels\n",
      "Width of the sky annulus in scale units (5.) (CR or value): \tNew width of the sky annulus: 5. scale units 5. pixels\n",
      "File/list of aperture radii in scale units (10) (CR or value): \tAperture radius 1: 10. scale units 10. pixels\n",
      "Standard deviation of background in counts (INDEF) (CR or value): \tNew standard deviation of background: INDEF counts\n",
      "Minimum good data value (INDEF) (CR or value): \tNew minimum good data value: INDEF counts\n",
      "Maximum good data value (INDEF) (CR or value): \tNew maximum good data value: INDEF counts\n",
      "\n"
     ]
    },
    {
     "name": "stderr",
     "output_type": "stream",
     "text": [
      "\n",
      "\n",
      " 87%|████████▋ | 13/15 [00:09<00:01,  1.34it/s]\u001b[A\u001b[A"
     ]
    },
    {
     "name": "stdout",
     "output_type": "stream",
     "text": [
      "\n",
      "Centering algorithm (centroid) (CR or value): \tNew centering algorithm: centroid\n",
      "Centering box width in scale units (5.) (CR or value): \tNew centering box width: 5. scale units  5. pixels\n",
      "Sky fitting algorithm (centroid) (CR or value): \tSky fitting algorithm: centroid\n",
      "Inner radius of sky annulus in scale units (20.) (CR or value): \tNew inner radius of sky annulus: 20. scale units 20. pixels\n",
      "Width of the sky annulus in scale units (5.) (CR or value): \tNew width of the sky annulus: 5. scale units 5. pixels\n",
      "File/list of aperture radii in scale units (10) (CR or value): \tAperture radius 1: 10. scale units 10. pixels\n",
      "Standard deviation of background in counts (INDEF) (CR or value): \tNew standard deviation of background: INDEF counts\n",
      "Minimum good data value (INDEF) (CR or value): \tNew minimum good data value: INDEF counts\n",
      "Maximum good data value (INDEF) (CR or value): \tNew maximum good data value: INDEF counts\n",
      "\n"
     ]
    },
    {
     "name": "stderr",
     "output_type": "stream",
     "text": [
      "\n",
      "\n",
      " 93%|█████████▎| 14/15 [00:10<00:00,  1.35it/s]\u001b[A\u001b[A"
     ]
    },
    {
     "name": "stdout",
     "output_type": "stream",
     "text": [
      "\n",
      "Centering algorithm (centroid) (CR or value): \tNew centering algorithm: centroid\n",
      "Centering box width in scale units (5.) (CR or value): \tNew centering box width: 5. scale units  5. pixels\n",
      "Sky fitting algorithm (centroid) (CR or value): \tSky fitting algorithm: centroid\n",
      "Inner radius of sky annulus in scale units (20.) (CR or value): \tNew inner radius of sky annulus: 20. scale units 20. pixels\n",
      "Width of the sky annulus in scale units (5.) (CR or value): \tNew width of the sky annulus: 5. scale units 5. pixels\n",
      "File/list of aperture radii in scale units (10) (CR or value): \tAperture radius 1: 10. scale units 10. pixels\n",
      "Standard deviation of background in counts (INDEF) (CR or value): \tNew standard deviation of background: INDEF counts\n",
      "Minimum good data value (INDEF) (CR or value): \tNew minimum good data value: INDEF counts\n",
      "Maximum good data value (INDEF) (CR or value): \tNew maximum good data value: INDEF counts\n",
      "\n"
     ]
    },
    {
     "name": "stderr",
     "output_type": "stream",
     "text": [
      "\n",
      "\n",
      "100%|██████████| 15/15 [00:11<00:00,  1.25it/s]\u001b[A\u001b[A\n",
      "\n",
      "\u001b[A\u001b[A\n",
      "100%|██████████| 5/5 [00:12<00:00,  3.67s/it]\u001b[A\n",
      "\u001b[A"
     ]
    },
    {
     "name": "stdout",
     "output_type": "stream",
     "text": [
      "\n",
      "Parsing output from IRAF photometry files\n",
      "\n",
      "0.6913483281372745\n",
      "0.6910909671153589\n",
      "0.0020495956853239143\n",
      "0.001303763721467929\n",
      "Writing out photometry files into: \n",
      "  /Users/jfausett/PycharmProjects/gbo_tabby_pipeline/pipe_out/20190427/\n",
      "\n",
      "Adding data from 20190427 to cumulative data file\n",
      "\n"
     ]
    },
    {
     "name": "stderr",
     "output_type": "stream",
     "text": [
      "\n",
      "  0%|          | 0/128 [00:00<?, ?it/s]\u001b[A\n",
      "  4%|▍         | 5/128 [00:00<00:02, 42.58it/s]\u001b[A\n",
      " 12%|█▎        | 16/128 [00:00<00:02, 51.80it/s]\u001b[A\n",
      " 20%|█▉        | 25/128 [00:00<00:01, 58.80it/s]\u001b[A\n",
      " 29%|██▉       | 37/128 [00:00<00:01, 68.72it/s]\u001b[A\n",
      " 35%|███▌      | 45/128 [00:00<00:01, 58.31it/s]\u001b[A\n",
      " 41%|████      | 52/128 [00:00<00:01, 56.09it/s]\u001b[A\n",
      " 45%|████▌     | 58/128 [00:00<00:01, 52.31it/s]\u001b[A\n",
      " 50%|█████     | 64/128 [00:01<00:01, 51.74it/s]\u001b[A\n",
      " 55%|█████▍    | 70/128 [00:01<00:01, 52.91it/s]\u001b[A\n",
      " 59%|█████▉    | 76/128 [00:01<00:00, 52.66it/s]\u001b[A\n",
      " 64%|██████▍   | 82/128 [00:01<00:00, 53.85it/s]\u001b[A\n",
      " 69%|██████▉   | 88/128 [00:01<00:00, 43.60it/s]\u001b[A\n",
      " 73%|███████▎  | 93/128 [00:01<00:00, 44.16it/s]\u001b[A\n",
      " 77%|███████▋  | 98/128 [00:01<00:00, 45.76it/s]\u001b[A\n",
      " 80%|████████  | 103/128 [00:01<00:00, 46.39it/s]\u001b[A\n",
      " 84%|████████▍ | 108/128 [00:01<00:00, 47.38it/s]\u001b[A\n",
      " 89%|████████▉ | 114/128 [00:02<00:00, 49.39it/s]\u001b[A\n",
      " 98%|█████████▊| 126/128 [00:02<00:00, 59.78it/s]\u001b[A\n",
      "100%|██████████| 128/128 [00:02<00:00, 58.85it/s]\u001b[A"
     ]
    },
    {
     "name": "stdout",
     "output_type": "stream",
     "text": [
      "There are 128 days of data\n",
      "\n",
      "Making summary of all Tabby data and output\n",
      "\n"
     ]
    },
    {
     "name": "stderr",
     "output_type": "stream",
     "text": [
      "\n",
      "  0%|          | 0/5 [00:00<?, ?it/s]\u001b[A\n",
      " 20%|██        | 1/5 [00:00<00:02,  1.58it/s]\u001b[A\n",
      " 40%|████      | 2/5 [00:01<00:01,  1.65it/s]\u001b[A\n",
      " 60%|██████    | 3/5 [00:01<00:01,  1.80it/s]\u001b[A\n",
      " 80%|████████  | 4/5 [00:02<00:00,  1.75it/s]\u001b[A\n",
      "100%|██████████| 5/5 [00:02<00:00,  1.69it/s]\u001b[A\n",
      "\u001b[A"
     ]
    },
    {
     "name": "stdout",
     "output_type": "stream",
     "text": [
      "\n",
      "Making updated plot and writing to pipe_out\n",
      "\n",
      "g norm is 0.862968688365\n",
      "r norm is 0.546368787396\n",
      "i norm is 0.437430335329\n",
      "V norm is 0.688365223339\n"
     ]
    },
    {
     "name": "stderr",
     "output_type": "stream",
     "text": [
      "100%|██████████| 1/1 [00:21<00:00, 21.92s/it]\n"
     ]
    },
    {
     "name": "stdout",
     "output_type": "stream",
     "text": [
      "\n",
      "Beginning backups\n",
      "\n",
      "\n",
      "Saving current pipeline to Dropbox\n",
      "\n",
      "\n",
      "Backing up data directory from Dropbox to Box\\ Sync\n",
      "\n",
      "\n",
      "Saving current pipeline to Box\\ Sync\n",
      "\n",
      "\n",
      "Backing up data directory from Dropbox to Google\\ Drive\n",
      "\n",
      "\n",
      "Saving current pipeline to Google\\ Drive\n",
      "\n"
     ]
    }
   ],
   "source": [
    "execfile('Tabby_API.py')"
   ]
  },
  {
   "cell_type": "code",
   "execution_count": null,
   "metadata": {},
   "outputs": [],
   "source": []
  }
 ],
 "metadata": {
  "kernelspec": {
   "display_name": "Python 2",
   "language": "python",
   "name": "python2"
  },
  "language_info": {
   "codemirror_mode": {
    "name": "ipython",
    "version": 2
   },
   "file_extension": ".py",
   "mimetype": "text/x-python",
   "name": "python",
   "nbconvert_exporter": "python",
   "pygments_lexer": "ipython2",
   "version": "2.7.15"
  }
 },
 "nbformat": 4,
 "nbformat_minor": 2
}
